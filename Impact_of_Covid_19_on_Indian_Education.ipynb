{
 "cells": [
  {
   "cell_type": "code",
   "execution_count": 1,
   "id": "780c453a",
   "metadata": {},
   "outputs": [],
   "source": [
    "# Import the Data\n",
    "import pandas as pd\n",
    "import numpy as np\n",
    "import plotly \n",
    "import matplotlib.pyplot as plt\n",
    "import seaborn as sns\n",
    "import sklearn \n",
    "from sklearn import linear_model\n",
    "from sklearn.model_selection import train_test_split\n",
    "\n",
    "plt.style.use(\"ggplot\")\n",
    "\n",
    "a = pd.read_csv(\"State_covid.csv\")\n",
    "b = pd.read_csv(\"COVID-19 Survey Student Responses.csv\")"
   ]
  },
  {
   "cell_type": "code",
   "execution_count": 2,
   "id": "340e3f70",
   "metadata": {},
   "outputs": [
    {
     "data": {
      "text/html": [
       "<div>\n",
       "<style scoped>\n",
       "    .dataframe tbody tr th:only-of-type {\n",
       "        vertical-align: middle;\n",
       "    }\n",
       "\n",
       "    .dataframe tbody tr th {\n",
       "        vertical-align: top;\n",
       "    }\n",
       "\n",
       "    .dataframe thead th {\n",
       "        text-align: right;\n",
       "    }\n",
       "</style>\n",
       "<table border=\"1\" class=\"dataframe\">\n",
       "  <thead>\n",
       "    <tr style=\"text-align: right;\">\n",
       "      <th></th>\n",
       "      <th>age</th>\n",
       "      <th>time_online_class</th>\n",
       "      <th>rating_online_class</th>\n",
       "      <th>medium</th>\n",
       "      <th>time_self_study</th>\n",
       "      <th>time_fitness</th>\n",
       "      <th>time_sleep</th>\n",
       "      <th>time_social_media</th>\n",
       "      <th>prefered_social_media</th>\n",
       "      <th>time_tv</th>\n",
       "      <th>num_meals_per_day</th>\n",
       "      <th>delta_weight</th>\n",
       "      <th>covid</th>\n",
       "      <th>stress_busters</th>\n",
       "      <th>time_utilized</th>\n",
       "      <th>more_family_connected</th>\n",
       "      <th>miss_most</th>\n",
       "    </tr>\n",
       "  </thead>\n",
       "  <tbody>\n",
       "    <tr>\n",
       "      <th>0</th>\n",
       "      <td>21</td>\n",
       "      <td>2.0</td>\n",
       "      <td>Good</td>\n",
       "      <td>Laptop/Desktop</td>\n",
       "      <td>4.0</td>\n",
       "      <td>0.0</td>\n",
       "      <td>7.0</td>\n",
       "      <td>3.0</td>\n",
       "      <td>Linkedin</td>\n",
       "      <td>1</td>\n",
       "      <td>4</td>\n",
       "      <td>Increased</td>\n",
       "      <td>NO</td>\n",
       "      <td>Cooking</td>\n",
       "      <td>YES</td>\n",
       "      <td>YES</td>\n",
       "      <td>School/college</td>\n",
       "    </tr>\n",
       "    <tr>\n",
       "      <th>1</th>\n",
       "      <td>21</td>\n",
       "      <td>0.0</td>\n",
       "      <td>Excellent</td>\n",
       "      <td>Smartphone</td>\n",
       "      <td>0.0</td>\n",
       "      <td>2.0</td>\n",
       "      <td>10.0</td>\n",
       "      <td>3.0</td>\n",
       "      <td>Youtube</td>\n",
       "      <td>0</td>\n",
       "      <td>3</td>\n",
       "      <td>Decreased</td>\n",
       "      <td>NO</td>\n",
       "      <td>Scrolling through social media</td>\n",
       "      <td>YES</td>\n",
       "      <td>NO</td>\n",
       "      <td>Roaming around freely</td>\n",
       "    </tr>\n",
       "    <tr>\n",
       "      <th>2</th>\n",
       "      <td>20</td>\n",
       "      <td>7.0</td>\n",
       "      <td>Very poor</td>\n",
       "      <td>Laptop/Desktop</td>\n",
       "      <td>3.0</td>\n",
       "      <td>0.0</td>\n",
       "      <td>6.0</td>\n",
       "      <td>2.0</td>\n",
       "      <td>Linkedin</td>\n",
       "      <td>0</td>\n",
       "      <td>3</td>\n",
       "      <td>Remain Constant</td>\n",
       "      <td>NO</td>\n",
       "      <td>Listening to music</td>\n",
       "      <td>NO</td>\n",
       "      <td>YES</td>\n",
       "      <td>Travelling</td>\n",
       "    </tr>\n",
       "    <tr>\n",
       "      <th>3</th>\n",
       "      <td>20</td>\n",
       "      <td>3.0</td>\n",
       "      <td>Very poor</td>\n",
       "      <td>Smartphone</td>\n",
       "      <td>2.0</td>\n",
       "      <td>1.0</td>\n",
       "      <td>6.0</td>\n",
       "      <td>5.0</td>\n",
       "      <td>Instagram</td>\n",
       "      <td>0</td>\n",
       "      <td>3</td>\n",
       "      <td>Decreased</td>\n",
       "      <td>NO</td>\n",
       "      <td>Watching web series</td>\n",
       "      <td>NO</td>\n",
       "      <td>NO</td>\n",
       "      <td>Friends , relatives</td>\n",
       "    </tr>\n",
       "    <tr>\n",
       "      <th>4</th>\n",
       "      <td>21</td>\n",
       "      <td>3.0</td>\n",
       "      <td>Good</td>\n",
       "      <td>Laptop/Desktop</td>\n",
       "      <td>3.0</td>\n",
       "      <td>1.0</td>\n",
       "      <td>8.0</td>\n",
       "      <td>3.0</td>\n",
       "      <td>Instagram</td>\n",
       "      <td>1</td>\n",
       "      <td>4</td>\n",
       "      <td>Remain Constant</td>\n",
       "      <td>NO</td>\n",
       "      <td>Social Media</td>\n",
       "      <td>NO</td>\n",
       "      <td>NO</td>\n",
       "      <td>Travelling</td>\n",
       "    </tr>\n",
       "  </tbody>\n",
       "</table>\n",
       "</div>"
      ],
      "text/plain": [
       "   age  time_online_class rating_online_class          medium  \\\n",
       "0   21                2.0                Good  Laptop/Desktop   \n",
       "1   21                0.0           Excellent      Smartphone   \n",
       "2   20                7.0           Very poor  Laptop/Desktop   \n",
       "3   20                3.0           Very poor      Smartphone   \n",
       "4   21                3.0                Good  Laptop/Desktop   \n",
       "\n",
       "   time_self_study  time_fitness  time_sleep  time_social_media  \\\n",
       "0              4.0           0.0         7.0                3.0   \n",
       "1              0.0           2.0        10.0                3.0   \n",
       "2              3.0           0.0         6.0                2.0   \n",
       "3              2.0           1.0         6.0                5.0   \n",
       "4              3.0           1.0         8.0                3.0   \n",
       "\n",
       "  prefered_social_media time_tv  num_meals_per_day     delta_weight covid  \\\n",
       "0              Linkedin       1                  4        Increased    NO   \n",
       "1               Youtube       0                  3        Decreased    NO   \n",
       "2              Linkedin       0                  3  Remain Constant    NO   \n",
       "3             Instagram       0                  3        Decreased    NO   \n",
       "4             Instagram       1                  4  Remain Constant    NO   \n",
       "\n",
       "                   stress_busters time_utilized more_family_connected  \\\n",
       "0                         Cooking           YES                   YES   \n",
       "1  Scrolling through social media           YES                    NO   \n",
       "2              Listening to music            NO                   YES   \n",
       "3             Watching web series            NO                    NO   \n",
       "4                    Social Media            NO                    NO   \n",
       "\n",
       "               miss_most  \n",
       "0         School/college  \n",
       "1  Roaming around freely  \n",
       "2             Travelling  \n",
       "3    Friends , relatives  \n",
       "4             Travelling  "
      ]
     },
     "execution_count": 2,
     "metadata": {},
     "output_type": "execute_result"
    }
   ],
   "source": [
    "b.rename(\n",
    "    columns = {\n",
    "        'Region of residence': 'region',\n",
    "        'Age of Subject': 'age',\n",
    "        'Time spent on Online Class': 'time_online_class',\n",
    "        'Rating of Online Class experience': 'rating_online_class',\n",
    "        'Medium for online class': 'medium',\n",
    "        'Time spent on self study': 'time_self_study',\n",
    "        'Time spent on fitness': 'time_fitness',\n",
    "        'Time spent on sleep': 'time_sleep',\n",
    "        'Time spent on social media': 'time_social_media',\n",
    "        'Prefered social media platform': 'prefered_social_media',\n",
    "        'Time spent on TV': 'time_tv',\n",
    "        'Number of meals per day': 'num_meals_per_day',\n",
    "        'Change in your weight': 'delta_weight',\n",
    "        'Health issue during lockdown': 'health_issue_in_lockdown',\n",
    "        'Stress busters': 'stress_busters',       \n",
    "        'Time utilized': 'time_utilized',\n",
    "        'Do you find yourself more connected with your family, close friends , relatives  ?': 'more_family_connected',\n",
    "        'What you miss the most': 'miss_most'}, inplace = True)\n",
    "\n",
    "b.head()"
   ]
  },
  {
   "cell_type": "code",
   "execution_count": 3,
   "id": "af346964",
   "metadata": {},
   "outputs": [
    {
     "name": "stdout",
     "output_type": "stream",
     "text": [
      "['Good' 'Excellent' 'Very poor' 'Average' nan 'Poor']\n"
     ]
    }
   ],
   "source": [
    "print(b['rating_online_class'].unique())"
   ]
  },
  {
   "cell_type": "code",
   "execution_count": 4,
   "id": "b8945d32",
   "metadata": {},
   "outputs": [
    {
     "name": "stdout",
     "output_type": "stream",
     "text": [
      "['Laptop/Desktop' 'Smartphone' 'Tablet' nan 'Any Gadget'\n",
      " 'Smartphone or Laptop/Desktop']\n"
     ]
    }
   ],
   "source": [
    "print(b['medium'].unique())"
   ]
  },
  {
   "cell_type": "code",
   "execution_count": 5,
   "id": "5ed18a07",
   "metadata": {},
   "outputs": [
    {
     "data": {
      "text/plain": [
       "rating_online_class    24\n",
       "medium                 51\n",
       "dtype: int64"
      ]
     },
     "execution_count": 5,
     "metadata": {},
     "output_type": "execute_result"
    }
   ],
   "source": [
    "b[['rating_online_class', 'medium']].isnull().sum()"
   ]
  },
  {
   "cell_type": "code",
   "execution_count": 6,
   "id": "63df1d47",
   "metadata": {},
   "outputs": [
    {
     "data": {
      "text/plain": [
       "array(['Linkedin', 'Youtube', 'Instagram', 'Whatsapp', 'None', 'Reddit',\n",
       "       'Snapchat', 'Omegle', 'Twitter', 'Telegram', 'Facebook', 'Elyment',\n",
       "       'None ', 'Quora', 'Talklife', 'WhatsApp'], dtype=object)"
      ]
     },
     "execution_count": 6,
     "metadata": {},
     "output_type": "execute_result"
    }
   ],
   "source": [
    "b['prefered_social_media'].unique()"
   ]
  },
  {
   "cell_type": "code",
   "execution_count": 7,
   "id": "908b7e98",
   "metadata": {},
   "outputs": [
    {
     "data": {
      "text/plain": [
       "Instagram    352\n",
       "Whatsapp     336\n",
       "Youtube      314\n",
       "Linkedin      61\n",
       "Facebook      52\n",
       "Twitter       28\n",
       "None          17\n",
       "Snapchat       8\n",
       "Reddit         5\n",
       "Telegram       3\n",
       "Omegle         1\n",
       "Elyment        1\n",
       "None           1\n",
       "Quora          1\n",
       "Talklife       1\n",
       "WhatsApp       1\n",
       "Name: prefered_social_media, dtype: int64"
      ]
     },
     "execution_count": 7,
     "metadata": {},
     "output_type": "execute_result"
    }
   ],
   "source": [
    "b['prefered_social_media'].value_counts()"
   ]
  },
  {
   "cell_type": "code",
   "execution_count": 8,
   "id": "fcdc60e3",
   "metadata": {},
   "outputs": [
    {
     "data": {
      "text/plain": [
       "Instagram    352\n",
       "WhatsApp     337\n",
       "Youtube      314\n",
       "Linkedin      61\n",
       "Facebook      52\n",
       "Twitter       28\n",
       "None          18\n",
       "Snapchat       8\n",
       "Reddit         5\n",
       "Telegram       3\n",
       "Omegle         1\n",
       "Elyment        1\n",
       "Quora          1\n",
       "Talklife       1\n",
       "Name: prefered_social_media, dtype: int64"
      ]
     },
     "execution_count": 8,
     "metadata": {},
     "output_type": "execute_result"
    }
   ],
   "source": [
    "b['prefered_social_media'].replace('None ', 'None', inplace = True)\n",
    "b['prefered_social_media'].replace('Whatsapp', 'WhatsApp', inplace = True)\n",
    "b['prefered_social_media'].value_counts()"
   ]
  },
  {
   "cell_type": "code",
   "execution_count": 9,
   "id": "c5ad090a",
   "metadata": {},
   "outputs": [
    {
     "data": {
      "text/plain": [
       "array(['1', '0', '3', '0.5', 'n', '2', '4.5', '1.5', 'N', '4', '0.3', '5',\n",
       "       'No tv', '0.1', '0.25', '6', '0.6', '7', '8', '15', ' ', '0.75',\n",
       "       '2.5', '3.5', '0.4'], dtype=object)"
      ]
     },
     "execution_count": 9,
     "metadata": {},
     "output_type": "execute_result"
    }
   ],
   "source": [
    "b['time_tv'].unique()"
   ]
  },
  {
   "cell_type": "code",
   "execution_count": 10,
   "id": "759ab131",
   "metadata": {},
   "outputs": [],
   "source": [
    "b['time_tv'].replace({'n':'0', 'N':'0', 'No tv':'0', ' ':'0', 0:'0'}, inplace = True)\n",
    "b['time_tv'] = b['time_tv'].astype('float', copy = True)"
   ]
  },
  {
   "cell_type": "code",
   "execution_count": 11,
   "id": "5ab8d0cb",
   "metadata": {},
   "outputs": [
    {
     "data": {
      "text/plain": [
       "array(['Cooking', 'Scrolling through social media', 'Listening to music',\n",
       "       'Watching web series', 'Social Media',\n",
       "       'Coding and studying for exams', 'Online surfing',\n",
       "       'live stream watching', 'Reading', 'Online gaming',\n",
       "       'Reading books', 'Dancing', 'Talking with friends ',\n",
       "       'Talking to your relatives',\n",
       "       'sketching,reading books,meditation,songs',\n",
       "       'Watching orgasm releasing videos', 'Sleep', 'Crying',\n",
       "       'Many of these', 'Web Series', 'drawing ', 'Meditation', 'Cricket',\n",
       "       'Anime Manga', 'Sleeping', 'Sketching and writing', 'Writing',\n",
       "       'pubg', 'Talking', 'Workout ', 'Whatever want', 'Indoor Games',\n",
       "       'watching movies,reading books,games,listening to music,sleep,dancing',\n",
       "       'gardening cartoon',\n",
       "       'listening to music,reading books and dancing.',\n",
       "       'Dont get distreessed',\n",
       "       ' listening music, motion design, graphic design, sleeping.',\n",
       "       'Business', 'Many among these ', 'Talk with childhood friends.',\n",
       "       'Playing ', 'Exercise', 'Talking to friends',\n",
       "       'Netflix, Friends and Books', 'Driving', 'I run', 'Running',\n",
       "       'Exercising', 'Football', 'singing', 'Cardio',\n",
       "       'I cant de-stress myslef',\n",
       "       'working out and some physical activity',\n",
       "       'Writing my own Comics & novels', 'Gym',\n",
       "       'I have no problem of stress ', 'workout',\n",
       "       'No able to reduce the stress ', 'Sleeping, Online games',\n",
       "       'By engaging in my work.', 'Work', 'Painting,. Sewing', 'Drawing',\n",
       "       'Forming ', 'Workout and listening music',\n",
       "       'Both listining music and scrolling down social media', 'Painting',\n",
       "       'Sketching', 'Sports', 'Drawing and painting and sketching',\n",
       "       'With a friend', 'Reading books, music, exercise',\n",
       "       'Watching ted talks and music and books', 'Calling friends',\n",
       "       'no stress', 'Drawing, painting',\n",
       "       'All reading books watching web series listening to music and talking to friends',\n",
       "       'Do some home related stuff', 'Painting ', 'Youtube',\n",
       "       'Taking with parents',\n",
       "       'Online gaming , surfing and listening to music ',\n",
       "       'I play Rubiks cube',\n",
       "       'Listening to music and reading books both . ',\n",
       "       'Poetry, writing books and novels , listening to music too',\n",
       "       'Watching YouTube '], dtype=object)"
      ]
     },
     "execution_count": 11,
     "metadata": {},
     "output_type": "execute_result"
    }
   ],
   "source": [
    "b['stress_busters'].unique()"
   ]
  },
  {
   "cell_type": "code",
   "execution_count": 12,
   "id": "bcb0a2d3",
   "metadata": {},
   "outputs": [],
   "source": [
    "b['stress_busters'].replace([\n",
    "    ['Sleep'],\n",
    "    ['Scrolling through social media'],\n",
    "    ['Reading books'],\n",
    "    ['Talking to your relatives']\n",
    "], ['Sleeping', 'Social Media', 'Reading', 'Talking'], inplace = True)"
   ]
  },
  {
   "cell_type": "code",
   "execution_count": 13,
   "id": "fdfad590",
   "metadata": {},
   "outputs": [],
   "source": [
    "b['stress_busters'].replace([\n",
    "    'Exercising','Exercise','Gym','Workout ','Cardio',\n",
    "    'workout','working out and some physical activity'\n",
    "],'Exercise/Gym', inplace = True)"
   ]
  },
  {
   "cell_type": "code",
   "execution_count": 14,
   "id": "54af0e4c",
   "metadata": {},
   "outputs": [],
   "source": [
    "b['stress_busters'].replace([\n",
    "    'Talking with friends ','Talking','Talking to friends','With a friend',\n",
    "    'Calling friends','Taking with parents','Talk with childhood friends.',\n",
    "], 'Talking', inplace = True)"
   ]
  },
  {
   "cell_type": "code",
   "execution_count": 15,
   "id": "0be6ad5a",
   "metadata": {},
   "outputs": [],
   "source": [
    "b['stress_busters'].replace([\n",
    "    'Listening to music',' listening music, motion design, graphic design, sleeping.',\n",
    "    'singing','Workout and listening music',\n",
    "    'Both listining music and scrolling down social media',\n",
    "    'Listening to music and reading books both . ',\n",
    "    'Poetry, writing books and novels , listening to music too'\n",
    "], 'Music', inplace = True)"
   ]
  },
  {
   "cell_type": "code",
   "execution_count": 16,
   "id": "9a51b92f",
   "metadata": {},
   "outputs": [],
   "source": [
    "b['stress_busters'].replace([\n",
    "    'Online surfing','live stream watching','Watching orgasm releasing videos','Anime Manga',\n",
    "    'Watching ted talks and music and books','Watching YouTube ','Internet',\n",
    "    'Online gaming , surfing and listening to music ','Web Series','Watching web series',\n",
    "    'Netflix, Friends and Books','Youtube'\n",
    "], 'Internet Surfing', inplace=True)"
   ]
  },
  {
   "cell_type": "code",
   "execution_count": 17,
   "id": "c3eb4425",
   "metadata": {},
   "outputs": [],
   "source": [
    "b['stress_busters'].replace([\n",
    "    'Coding and studying for exams',\n",
    "    'sketching,reading books,meditation,songs',\n",
    "    'Many of these',\n",
    "    'All reading books watching web series listening to music and talking to friends',\n",
    "    'Many among these ',\n",
    "    'Do some home related stuff',\n",
    "    'watching movies,reading books,games,listening to music,sleep,dancing',\n",
    "    'Reading books, music, exercise',\n",
    "    'Whatever want','listening to music,reading books and dancing.',\n",
    "], 'Many Things', inplace=True)"
   ]
  },
  {
   "cell_type": "code",
   "execution_count": 18,
   "id": "0b65ae99",
   "metadata": {},
   "outputs": [],
   "source": [
    "b['stress_busters'].replace([\n",
    "    'Reading','drawing','Dancing','Meditation','Driving','Drawing, painting','Forming ','Painting','Sketching',\n",
    "    'Sports','Painting ','Drawing','Football','Business','Running','I run','Drawing and painting and sketching',\n",
    "    'I play Rubiks cube','Indoor Games','I cant de-stress myslef','Writing my own Comics & novels',\n",
    "    'I have no problem of stress ','Sketching and writing','By engaging in my work.', 'Work',\n",
    "    'Painting,. Sewing','Crying','Dont get distreessed','gardening cartoon','Playing ','no stress',\n",
    "    'Cricket','No able to reduce the stress ','drawing ','Writing'\n",
    "], 'Doing Extra Activities', inplace=True)\n"
   ]
  },
  {
   "cell_type": "code",
   "execution_count": 19,
   "id": "a997c91e",
   "metadata": {},
   "outputs": [],
   "source": [
    "b['stress_busters'].replace([\n",
    "    'Sleeping, Online games',\n",
    "    'pubg'\n",
    "], 'Online gaming', inplace=True)"
   ]
  },
  {
   "cell_type": "code",
   "execution_count": 20,
   "id": "3c3ac152",
   "metadata": {},
   "outputs": [
    {
     "name": "stdout",
     "output_type": "stream",
     "text": [
      "['Cooking' 'Social Media' 'Music' 'Internet Surfing' 'Many Things'\n",
      " 'Doing Extra Activities' 'Online gaming' 'Talking' 'Sleeping'\n",
      " 'Exercise/Gym']\n"
     ]
    }
   ],
   "source": [
    "print(b['stress_busters'].unique())"
   ]
  },
  {
   "cell_type": "code",
   "execution_count": 21,
   "id": "c4545bf3",
   "metadata": {},
   "outputs": [
    {
     "name": "stdout",
     "output_type": "stream",
     "text": [
      "Music                     282\n",
      "Doing Extra Activities    209\n",
      "Internet Surfing          183\n",
      "Online gaming             177\n",
      "Sleeping                  105\n",
      "Social Media              100\n",
      "Talking                    62\n",
      "Cooking                    41\n",
      "Exercise/Gym               13\n",
      "Many Things                10\n",
      "Name: stress_busters, dtype: int64\n"
     ]
    }
   ],
   "source": [
    "print(b['stress_busters'].value_counts())"
   ]
  },
  {
   "cell_type": "code",
   "execution_count": 22,
   "id": "5ef7749c",
   "metadata": {},
   "outputs": [
    {
     "data": {
      "text/plain": [
       "array(['School/college', 'Roaming around freely', 'Travelling',\n",
       "       'Friends , relatives', 'Eating outside', 'Colleagues', 'Job',\n",
       "       'Nothing this is my usual life', 'Gym', 'All of them',\n",
       "       'Friends and School', 'Friends,Romaing and traveling',\n",
       "       'Only friends', 'Taking kids to park', 'All of the above ',\n",
       "       'All the above', 'Internet', 'Going to the movies', 'Nothing',\n",
       "       'school, relatives and friends', 'All ', 'All', 'all of the above',\n",
       "       'Nothing ', 'Eating outside and friends.', 'All above',\n",
       "       'Nah, this is my usual lifestyle anyway, just being lazy....',\n",
       "       'Family ', 'Football', 'Normal life',\n",
       "       'The idea of being around fun loving people but this time has certainly made us all to reconnect (and fill the gap if any) with our families and relatives so it is fun but certainly we do miss hanging out with friends',\n",
       "       'My normal routine', 'ALL', 'NOTHING', 'Being social ',\n",
       "       'Previous mistakes', 'all', 'nothing', 'Playing', '.',\n",
       "       'I have missed nothing ', 'Travelling & Friends',\n",
       "       'To stay alone. ', 'Family', 'Badminton in court',\n",
       "       'Friends, relatives & travelling', 'everything',\n",
       "       'Friends and roaming around freely', 'Metro',\n",
       "       'School and friends.', 'School and my school friends'],\n",
       "      dtype=object)"
      ]
     },
     "execution_count": 22,
     "metadata": {},
     "output_type": "execute_result"
    }
   ],
   "source": [
    "b['miss_most'].unique()"
   ]
  },
  {
   "cell_type": "code",
   "execution_count": 23,
   "id": "cd9dc612",
   "metadata": {},
   "outputs": [],
   "source": [
    "b['miss_most'].replace(\n",
    "    [\n",
    "        'All the above',\n",
    "        'All of the above ',\n",
    "        'everything',\n",
    "        'All above',\n",
    "        'all of the above',\n",
    "        'ALL','all',\n",
    "        'All of the above',\n",
    "        'all of them',\n",
    "        'All of them',\n",
    "        'All '\n",
    "    ],\n",
    "    'All', inplace=True)"
   ]
  },
  {
   "cell_type": "code",
   "execution_count": 24,
   "id": "e2c44d45",
   "metadata": {},
   "outputs": [],
   "source": [
    "b['miss_most'].replace(\n",
    "    [\n",
    "        'NOTHING',\n",
    "        'Nothing this is my usual life',\n",
    "        'To stay alone. ',\n",
    "        'Nothing ',\n",
    "        'Nah, this is my usual lifestyle anyway, just being lazy....',\n",
    "        'Normal life',\n",
    "        'My normal routine',\n",
    "        'nothing',\n",
    "        'Job',\n",
    "        'I have missed nothing',\n",
    "        'Previous mistakes',\n",
    "        '.',\n",
    "        'I have missed nothing ',\n",
    "        'Internet'\n",
    "    ],\n",
    "    'Nothing', inplace=True)"
   ]
  },
  {
   "cell_type": "code",
   "execution_count": 25,
   "id": "d73878b9",
   "metadata": {},
   "outputs": [],
   "source": [
    "b['miss_most'].replace(\n",
    "    [\n",
    "        'Only friends',\n",
    "        'Friends , relatives',\n",
    "        'relatives and friends',\n",
    "        'Family ',\n",
    "        'The idea of being around fun loving people but this time has certainly made us all to reconnect (and fill the gap if any) with our families and relatives so it is fun but certainly we do miss hanging out with friends',\n",
    "        'Family',\n",
    "        'Friends, relatives & travelling',\n",
    "        'Travelling & Friends',\n",
    "        'School and friends',\n",
    "        'Friends and School',\n",
    "        'Eating outside and friends.',\n",
    "        'School and friends.',\n",
    "        'school, relatives and friends',\n",
    "        'School and my school friends'\n",
    "    ],\n",
    "    'Friends/Relatives/Family', inplace=True)"
   ]
  },
  {
   "cell_type": "code",
   "execution_count": 26,
   "id": "70d28635",
   "metadata": {},
   "outputs": [],
   "source": [
    "b['miss_most'].replace(\n",
    "    [\n",
    "        'Playing',\n",
    "        'Roaming around freely',\n",
    "        'Taking kids to park',\n",
    "        'Being social ',\n",
    "        'Friends and roaming around freely',\n",
    "        'Friends,Romaing and traveling',\n",
    "        'Metro',\n",
    "        'Going to the movies',\n",
    "        'Gym',\n",
    "        'Football',\n",
    "        'Badminton in court'\n",
    "    ],\n",
    "    'Passing Time Outside', inplace=True)"
   ]
  },
  {
   "cell_type": "code",
   "execution_count": 27,
   "id": "b23d9f36",
   "metadata": {},
   "outputs": [
    {
     "data": {
      "text/plain": [
       "array(['School/college', 'Passing Time Outside', 'Travelling',\n",
       "       'Friends/Relatives/Family', 'Eating outside', 'Colleagues',\n",
       "       'Nothing', 'All'], dtype=object)"
      ]
     },
     "execution_count": 27,
     "metadata": {},
     "output_type": "execute_result"
    }
   ],
   "source": [
    "b['miss_most'].unique()"
   ]
  },
  {
   "cell_type": "code",
   "execution_count": 28,
   "id": "151a8769",
   "metadata": {},
   "outputs": [
    {
     "data": {
      "text/plain": [
       "School/college              379\n",
       "Friends/Relatives/Family    235\n",
       "Travelling                  183\n",
       "Passing Time Outside        162\n",
       "Eating outside              104\n",
       "Colleagues                   67\n",
       "Nothing                      26\n",
       "All                          26\n",
       "Name: miss_most, dtype: int64"
      ]
     },
     "execution_count": 28,
     "metadata": {},
     "output_type": "execute_result"
    }
   ],
   "source": [
    "b['miss_most'].value_counts()"
   ]
  },
  {
   "cell_type": "code",
   "execution_count": 29,
   "id": "dc92ca66",
   "metadata": {},
   "outputs": [
    {
     "data": {
      "text/html": [
       "<div>\n",
       "<style scoped>\n",
       "    .dataframe tbody tr th:only-of-type {\n",
       "        vertical-align: middle;\n",
       "    }\n",
       "\n",
       "    .dataframe tbody tr th {\n",
       "        vertical-align: top;\n",
       "    }\n",
       "\n",
       "    .dataframe thead th {\n",
       "        text-align: right;\n",
       "    }\n",
       "</style>\n",
       "<table border=\"1\" class=\"dataframe\">\n",
       "  <thead>\n",
       "    <tr style=\"text-align: right;\">\n",
       "      <th></th>\n",
       "      <th>age</th>\n",
       "      <th>time_online_class</th>\n",
       "      <th>rating_online_class</th>\n",
       "      <th>medium</th>\n",
       "      <th>time_self_study</th>\n",
       "      <th>time_fitness</th>\n",
       "      <th>time_sleep</th>\n",
       "      <th>time_social_media</th>\n",
       "      <th>prefered_social_media</th>\n",
       "      <th>time_tv</th>\n",
       "      <th>num_meals_per_day</th>\n",
       "      <th>delta_weight</th>\n",
       "      <th>covid</th>\n",
       "      <th>stress_busters</th>\n",
       "      <th>time_utilized</th>\n",
       "      <th>more_family_connected</th>\n",
       "      <th>miss_most</th>\n",
       "    </tr>\n",
       "  </thead>\n",
       "  <tbody>\n",
       "    <tr>\n",
       "      <th>0</th>\n",
       "      <td>21</td>\n",
       "      <td>2.0</td>\n",
       "      <td>Good</td>\n",
       "      <td>Laptop/Desktop</td>\n",
       "      <td>4.0</td>\n",
       "      <td>0.0</td>\n",
       "      <td>7.0</td>\n",
       "      <td>3.0</td>\n",
       "      <td>Linkedin</td>\n",
       "      <td>1.0</td>\n",
       "      <td>4</td>\n",
       "      <td>Increased</td>\n",
       "      <td>NO</td>\n",
       "      <td>Cooking</td>\n",
       "      <td>YES</td>\n",
       "      <td>YES</td>\n",
       "      <td>School/college</td>\n",
       "    </tr>\n",
       "    <tr>\n",
       "      <th>1</th>\n",
       "      <td>21</td>\n",
       "      <td>0.0</td>\n",
       "      <td>Excellent</td>\n",
       "      <td>Smartphone</td>\n",
       "      <td>0.0</td>\n",
       "      <td>2.0</td>\n",
       "      <td>10.0</td>\n",
       "      <td>3.0</td>\n",
       "      <td>Youtube</td>\n",
       "      <td>0.0</td>\n",
       "      <td>3</td>\n",
       "      <td>Decreased</td>\n",
       "      <td>NO</td>\n",
       "      <td>Social Media</td>\n",
       "      <td>YES</td>\n",
       "      <td>NO</td>\n",
       "      <td>Passing Time Outside</td>\n",
       "    </tr>\n",
       "    <tr>\n",
       "      <th>2</th>\n",
       "      <td>20</td>\n",
       "      <td>7.0</td>\n",
       "      <td>Very poor</td>\n",
       "      <td>Laptop/Desktop</td>\n",
       "      <td>3.0</td>\n",
       "      <td>0.0</td>\n",
       "      <td>6.0</td>\n",
       "      <td>2.0</td>\n",
       "      <td>Linkedin</td>\n",
       "      <td>0.0</td>\n",
       "      <td>3</td>\n",
       "      <td>Remain Constant</td>\n",
       "      <td>NO</td>\n",
       "      <td>Music</td>\n",
       "      <td>NO</td>\n",
       "      <td>YES</td>\n",
       "      <td>Travelling</td>\n",
       "    </tr>\n",
       "    <tr>\n",
       "      <th>3</th>\n",
       "      <td>20</td>\n",
       "      <td>3.0</td>\n",
       "      <td>Very poor</td>\n",
       "      <td>Smartphone</td>\n",
       "      <td>2.0</td>\n",
       "      <td>1.0</td>\n",
       "      <td>6.0</td>\n",
       "      <td>5.0</td>\n",
       "      <td>Instagram</td>\n",
       "      <td>0.0</td>\n",
       "      <td>3</td>\n",
       "      <td>Decreased</td>\n",
       "      <td>NO</td>\n",
       "      <td>Internet Surfing</td>\n",
       "      <td>NO</td>\n",
       "      <td>NO</td>\n",
       "      <td>Friends/Relatives/Family</td>\n",
       "    </tr>\n",
       "    <tr>\n",
       "      <th>4</th>\n",
       "      <td>21</td>\n",
       "      <td>3.0</td>\n",
       "      <td>Good</td>\n",
       "      <td>Laptop/Desktop</td>\n",
       "      <td>3.0</td>\n",
       "      <td>1.0</td>\n",
       "      <td>8.0</td>\n",
       "      <td>3.0</td>\n",
       "      <td>Instagram</td>\n",
       "      <td>1.0</td>\n",
       "      <td>4</td>\n",
       "      <td>Remain Constant</td>\n",
       "      <td>NO</td>\n",
       "      <td>Social Media</td>\n",
       "      <td>NO</td>\n",
       "      <td>NO</td>\n",
       "      <td>Travelling</td>\n",
       "    </tr>\n",
       "  </tbody>\n",
       "</table>\n",
       "</div>"
      ],
      "text/plain": [
       "   age  time_online_class rating_online_class          medium  \\\n",
       "0   21                2.0                Good  Laptop/Desktop   \n",
       "1   21                0.0           Excellent      Smartphone   \n",
       "2   20                7.0           Very poor  Laptop/Desktop   \n",
       "3   20                3.0           Very poor      Smartphone   \n",
       "4   21                3.0                Good  Laptop/Desktop   \n",
       "\n",
       "   time_self_study  time_fitness  time_sleep  time_social_media  \\\n",
       "0              4.0           0.0         7.0                3.0   \n",
       "1              0.0           2.0        10.0                3.0   \n",
       "2              3.0           0.0         6.0                2.0   \n",
       "3              2.0           1.0         6.0                5.0   \n",
       "4              3.0           1.0         8.0                3.0   \n",
       "\n",
       "  prefered_social_media  time_tv  num_meals_per_day     delta_weight covid  \\\n",
       "0              Linkedin      1.0                  4        Increased    NO   \n",
       "1               Youtube      0.0                  3        Decreased    NO   \n",
       "2              Linkedin      0.0                  3  Remain Constant    NO   \n",
       "3             Instagram      0.0                  3        Decreased    NO   \n",
       "4             Instagram      1.0                  4  Remain Constant    NO   \n",
       "\n",
       "     stress_busters time_utilized more_family_connected  \\\n",
       "0           Cooking           YES                   YES   \n",
       "1      Social Media           YES                    NO   \n",
       "2             Music            NO                   YES   \n",
       "3  Internet Surfing            NO                    NO   \n",
       "4      Social Media            NO                    NO   \n",
       "\n",
       "                  miss_most  \n",
       "0            School/college  \n",
       "1      Passing Time Outside  \n",
       "2                Travelling  \n",
       "3  Friends/Relatives/Family  \n",
       "4                Travelling  "
      ]
     },
     "execution_count": 29,
     "metadata": {},
     "output_type": "execute_result"
    }
   ],
   "source": [
    "b.head()"
   ]
  },
  {
   "cell_type": "code",
   "execution_count": 30,
   "id": "94cbd421",
   "metadata": {},
   "outputs": [
    {
     "data": {
      "image/png": "[encoded data removed]",
      "text/plain": [
       "<Figure size 864x576 with 1 Axes>"
      ]
     },
     "metadata": {},
     "output_type": "display_data"
    }
   ],
   "source": [
    "plt.figure(figsize=(12, 8))\n",
    "sns.countplot(x='age', data=b)\n",
    "plt.yscale('log')\n",
    "plt.xlabel('Age groups')\n",
    "plt.ylabel('Number of Students')\n",
    "plt.title('Age Distribution')\n",
    "plt.show()"
   ]
  },
  {
   "cell_type": "code",
   "execution_count": 31,
   "id": "872bf014",
   "metadata": {},
   "outputs": [
    {
     "data": {
      "image/png": "[encoded data removed]",
      "text/plain": [
       "<Figure size 864x864 with 1 Axes>"
      ]
     },
     "metadata": {},
     "output_type": "display_data"
    }
   ],
   "source": [
    "df = b['medium'].value_counts().to_dict()\n",
    "plt.figure(figsize=(12,12))\n",
    "plt.pie(x=df.values())\n",
    "plt.legend(labels=df.keys(), loc='upper right')\n",
    "plt.title('Device used for online learning')\n",
    "plt.show()"
   ]
  },
  {
   "cell_type": "code",
   "execution_count": 32,
   "id": "18556adc",
   "metadata": {},
   "outputs": [
    {
     "data": {
      "image/png": "[encoded data removed]",
      "text/plain": [
       "<Figure size 864x576 with 1 Axes>"
      ]
     },
     "metadata": {},
     "output_type": "display_data"
    }
   ],
   "source": [
    "plt.figure(figsize=(12,8))\n",
    "sns.countplot(y='prefered_social_media', data=b, order=b['prefered_social_media'].value_counts().index[:15])\n",
    "plt.xlabel(\"Number of people\")\n",
    "plt.ylabel(\"social media platforms\")\n",
    "plt.title(\"Preferred Social Media Platform\")\n",
    "plt.show()"
   ]
  },
  {
   "cell_type": "code",
   "execution_count": 33,
   "id": "cc316a2f",
   "metadata": {},
   "outputs": [
    {
     "data": {
      "image/png": "[encoded data removed]",
      "text/plain": [
       "<Figure size 864x576 with 1 Axes>"
      ]
     },
     "metadata": {},
     "output_type": "display_data"
    }
   ],
   "source": [
    "plt.figure(figsize=(12,8))\n",
    "sns.countplot(y='stress_busters', data=b, order=b['stress_busters'].value_counts().index[:15])\n",
    "plt.xlabel(\"Number of Subjects\")\n",
    "plt.ylabel(\"Stress buster activity\")\n",
    "plt.title(\"Favourite Stress Buster\")\n",
    "plt.show()"
   ]
  },
  {
   "cell_type": "code",
   "execution_count": 34,
   "id": "fedb7be5",
   "metadata": {},
   "outputs": [
    {
     "data": {
      "image/png": "[encoded data removed]",
      "text/plain": [
       "<Figure size 864x576 with 1 Axes>"
      ]
     },
     "metadata": {},
     "output_type": "display_data"
    }
   ],
   "source": [
    "plt.figure(figsize=(12,8))\n",
    "sns.countplot(y='miss_most', data=b, order=b['miss_most'].value_counts().index[:10])\n",
    "plt.xlabel(\"Number of Subjects\")\n",
    "plt.ylabel(\"What did they miss?\")\n",
    "plt.title(\"Miss Most Activities\")\n",
    "plt.show()"
   ]
  },
  {
   "cell_type": "code",
   "execution_count": 35,
   "id": "d83790a9",
   "metadata": {},
   "outputs": [
    {
     "data": {
      "image/png": "[encoded data removed]",
      "text/plain": [
       "<Figure size 864x576 with 1 Axes>"
      ]
     },
     "metadata": {},
     "output_type": "display_data"
    }
   ],
   "source": [
    "plt.figure(figsize=(12,8))\n",
    "sns.countplot(x='rating_online_class', data=b, order=b['rating_online_class'].value_counts().index[:15])\n",
    "plt.xlabel(\"Ratings\")\n",
    "plt.ylabel(\"Number of Students\")\n",
    "plt.title('Rating for Online class')\n",
    "plt.show()"
   ]
  },
  {
   "cell_type": "code",
   "execution_count": null,
   "id": "5dd6ca92",
   "metadata": {},
   "outputs": [],
   "source": []
  }
 ],
 "metadata": {
  "kernelspec": {
   "display_name": "Python 3 (ipykernel)",
   "language": "python",
   "name": "python3"
  },
  "language_info": {
   "codemirror_mode": {
    "name": "ipython",
    "version": 3
   },
   "file_extension": ".py",
   "mimetype": "text/x-python",
   "name": "python",
   "nbconvert_exporter": "python",
   "pygments_lexer": "ipython3",
   "version": "3.9.12"
  }
 },
 "nbformat": 4,
 "nbformat_minor": 5
}
